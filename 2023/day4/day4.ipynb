{
 "cells": [
  {
   "cell_type": "code",
   "execution_count": 83,
   "metadata": {},
   "outputs": [],
   "source": [
    "import re\n",
    "\n",
    "class Input(object):\n",
    "    pass\n",
    "\n",
    "def convert_input(line):\n",
    "    input = Input()\n",
    "    input.line = line\n",
    "    input.count = 1\n",
    "    _, numbers = line.split(':')\n",
    "    winning, mine = numbers.split('|')\n",
    "    input.winning = list(map(int, winning.split()))\n",
    "    input.mine = list(map(int, mine.split()))\n",
    "    return input\n",
    "\n",
    "def append_input(inputs, filename, solution=None):\n",
    "    try:\n",
    "        with open(filename,'r') as f:\n",
    "            lines = [line.strip() for line in f.readlines()]\n",
    "    except:\n",
    "        print(\"No input file\", filename)\n",
    "        return\n",
    "    lines = [convert_input(line) for line in lines]\n",
    "    inputs.append((lines, solution))"
   ]
  },
  {
   "cell_type": "code",
   "execution_count": 84,
   "metadata": {},
   "outputs": [
    {
     "name": "stdout",
     "output_type": "stream",
     "text": [
      "total 13 matches\n",
      "total 20117\n"
     ]
    }
   ],
   "source": [
    "inputs = []\n",
    "\n",
    "append_input(inputs, \"example1.txt\", 13)\n",
    "append_input(inputs, \"input1.txt\")\n",
    "\n",
    "for input, solution in inputs:\n",
    "    total = 0\n",
    "\n",
    "    for card in input:\n",
    "        points = None\n",
    "        for num in card.mine:\n",
    "            if num in card.winning:\n",
    "                # print(\"win\", num)\n",
    "                if not points:\n",
    "                    points = 1\n",
    "                else:\n",
    "                    points <<= 1\n",
    "        if points:\n",
    "            total += points\n",
    "    \n",
    "    result = f\"total {total}\"\n",
    "    if solution is not None:\n",
    "        result += \" \" + (\"matches\" if solution == total else \"not right\")\n",
    "\n",
    "    print(result)"
   ]
  },
  {
   "cell_type": "code",
   "execution_count": 85,
   "metadata": {},
   "outputs": [],
   "source": [
    "inputs = []\n",
    "\n",
    "append_input(inputs, \"example1.txt\", 30)\n",
    "append_input(inputs, \"input1.txt\")"
   ]
  },
  {
   "cell_type": "code",
   "execution_count": 86,
   "metadata": {},
   "outputs": [
    {
     "name": "stdout",
     "output_type": "stream",
     "text": [
      "total 30 matches\n",
      "total 13768818\n"
     ]
    }
   ],
   "source": [
    "for input, solution in inputs:\n",
    "    total = 0\n",
    "\n",
    "    for card_idx, card in enumerate(input):\n",
    "        wins = 0\n",
    "        for num in card.mine:\n",
    "            if num in card.winning:\n",
    "                wins += 1\n",
    "        # print(\"card\", card_idx + 1, wins, card.count)\n",
    "        for idx in range(wins):\n",
    "            input[idx + card_idx + 1].count += card.count\n",
    "        total += card.count\n",
    "    \n",
    "    result = f\"total {total}\"\n",
    "    if solution is not None:\n",
    "        result += \" \" + (\"matches\" if solution == total else \"not right\")\n",
    "\n",
    "    print(result)"
   ]
  }
 ],
 "metadata": {
  "kernelspec": {
   "display_name": "Python 3 (ipykernel)",
   "language": "python",
   "name": "python3"
  },
  "language_info": {
   "codemirror_mode": {
    "name": "ipython",
    "version": 3
   },
   "file_extension": ".py",
   "mimetype": "text/x-python",
   "name": "python",
   "nbconvert_exporter": "python",
   "pygments_lexer": "ipython3",
   "version": "3.10.7"
  }
 },
 "nbformat": 4,
 "nbformat_minor": 2
}
