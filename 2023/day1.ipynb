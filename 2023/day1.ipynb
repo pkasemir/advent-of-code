{
 "cells": [
  {
   "cell_type": "code",
   "execution_count": 73,
   "metadata": {},
   "outputs": [],
   "source": [
    "import re"
   ]
  },
  {
   "cell_type": "code",
   "execution_count": 74,
   "metadata": {},
   "outputs": [],
   "source": [
    "day = 1\n",
    "inputs = [\n",
    "    (\"\"\"1abc2\n",
    "pqr3stu8vwx\n",
    "a1b2c3d4e5f\n",
    "treb7uchet\"\"\", 142),\n",
    "]\n",
    "\n",
    "try:\n",
    "    with open(f'day{day}_input1.txt','r') as f:\n",
    "        inputs.append((f.read(), None))\n",
    "except:\n",
    "    pass\n",
    "\n"
   ]
  },
  {
   "cell_type": "code",
   "execution_count": 75,
   "metadata": {},
   "outputs": [
    {
     "name": "stdout",
     "output_type": "stream",
     "text": [
      "142\n",
      "solution 142 matches 142\n",
      "55130\n"
     ]
    }
   ],
   "source": [
    "def convert(line):\n",
    "    digits = re.sub(\"[^0-9]\", \"\", line)\n",
    "    digits = digits[0] + digits[-1]\n",
    "    return int(digits)\n",
    "\n",
    "\n",
    "for input, solution in inputs:\n",
    "    # print(input, solution)\n",
    "    lines = input.splitlines()\n",
    "    # print(lines)\n",
    "    vals = [convert(line) for line in lines]\n",
    "    total = sum(vals)\n",
    "    # print(vals)\n",
    "    print(sum(vals))\n",
    "    if solution is not None:\n",
    "        print(\"solution\", solution, \"matches\" if solution == total else \"not right\", total)\n",
    "\n"
   ]
  },
  {
   "cell_type": "code",
   "execution_count": 99,
   "metadata": {},
   "outputs": [],
   "source": [
    "day = 1\n",
    "inputs = [\n",
    "    (\"\"\"two1nine\n",
    "eightwothree\n",
    "abcone2threexyz\n",
    "xtwone3four\n",
    "4nineeightseven2\n",
    "zoneight234\n",
    "7pqrstsixteen\"\"\", 281)\n",
    "]\n",
    "\n",
    "try:\n",
    "    with open(f'day{day}_input2.txt','r') as f:\n",
    "        inputs.append((f.read(), None))\n",
    "except:\n",
    "    pass\n",
    "\n"
   ]
  },
  {
   "cell_type": "code",
   "execution_count": 100,
   "metadata": {},
   "outputs": [
    {
     "name": "stdout",
     "output_type": "stream",
     "text": [
      "281\n",
      "solution 281 matches 281\n",
      "54985\n"
     ]
    }
   ],
   "source": [
    "numbers = \"zero one two three four five six seven eight nine\".split()\n",
    "numbers_rev = [n[::-1] for n in numbers]\n",
    "numbers_re = \"|\".join(numbers)\n",
    "numbers_rev_re = \"|\".join(numbers_rev)\n",
    "\n",
    "numbers_dict = {n: i for i,n in enumerate(numbers)}\n",
    "numbers_rev_dict = {n: i for i,n in enumerate(numbers_rev)}\n",
    "for i in range(10):\n",
    "    numbers_dict[str(i)] = i\n",
    "    numbers_rev_dict[str(i)] = i\n",
    "\n",
    "def convert(line):\n",
    "    output = \"\"\n",
    "    skip = 0\n",
    "    m1 = re.search(\"[0-9]|\"+numbers_re, line)\n",
    "    # print(m1)\n",
    "    m2 = re.search(\"[0-9]|\"+numbers_rev_re, line[::-1])\n",
    "    # print(m2)\n",
    "    val = numbers_dict[m1.group()] *10 + numbers_rev_dict[m2.group()]\n",
    "    # print(val)\n",
    "    return val\n",
    "\n",
    "for input, solution in inputs:\n",
    "    # print(input, solution)\n",
    "    lines = input.splitlines()\n",
    "    # print(lines)\n",
    "    vals = [convert(line) for line in lines]\n",
    "    total = sum(vals)\n",
    "    # print(vals)\n",
    "    print(sum(vals))\n",
    "    if solution is not None:\n",
    "        print(\"solution\", solution, \"matches\" if solution == total else \"not right\", total)\n",
    "\n"
   ]
  }
 ],
 "metadata": {
  "kernelspec": {
   "display_name": "Python 3 (ipykernel)",
   "language": "python",
   "name": "python3"
  },
  "language_info": {
   "codemirror_mode": {
    "name": "ipython",
    "version": 3
   },
   "file_extension": ".py",
   "mimetype": "text/x-python",
   "name": "python",
   "nbconvert_exporter": "python",
   "pygments_lexer": "ipython3",
   "version": "3.10.7"
  }
 },
 "nbformat": 4,
 "nbformat_minor": 2
}
