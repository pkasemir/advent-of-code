{
 "cells": [
  {
   "cell_type": "code",
   "execution_count": 33,
   "metadata": {},
   "outputs": [],
   "source": [
    "import re"
   ]
  },
  {
   "cell_type": "code",
   "execution_count": 34,
   "metadata": {},
   "outputs": [],
   "source": [
    "day = 1\n",
    "inputs = [\n",
    "    (\"\"\"1abc2\n",
    "pqr3stu8vwx\n",
    "a1b2c3d4e5f\n",
    "treb7uchet\"\"\", 142)\n",
    "]\n",
    "\n",
    "try:\n",
    "    with open(f'day{day}_input1.txt','r') as f:\n",
    "        inputs.append((f.read(), None))\n",
    "except:\n",
    "    pass\n",
    "\n"
   ]
  },
  {
   "cell_type": "code",
   "execution_count": 36,
   "metadata": {},
   "outputs": [
    {
     "name": "stdout",
     "output_type": "stream",
     "text": [
      "142\n",
      "solution 142 matches 142\n",
      "55130\n"
     ]
    }
   ],
   "source": [
    "def convert(line):\n",
    "    digits = re.sub(\"[^0-9]\", \"\", line)\n",
    "    digits = digits[0] + digits[-1]\n",
    "    return int(digits)\n",
    "\n",
    "\n",
    "for input, solution in inputs:\n",
    "    # print(input, solution)\n",
    "    lines = input.splitlines()\n",
    "    # print(lines)\n",
    "    vals = [convert(line) for line in lines]\n",
    "    total = sum(vals)\n",
    "    # print(vals)\n",
    "    print(sum(vals))\n",
    "    if solution is not None:\n",
    "        print(\"solution\", solution, \"matches\" if solution == total else \"not right\", total)\n",
    "\n"
   ]
  }
 ],
 "metadata": {
  "kernelspec": {
   "display_name": "Python 3 (ipykernel)",
   "language": "python",
   "name": "python3"
  },
  "language_info": {
   "codemirror_mode": {
    "name": "ipython",
    "version": 3
   },
   "file_extension": ".py",
   "mimetype": "text/x-python",
   "name": "python",
   "nbconvert_exporter": "python",
   "pygments_lexer": "ipython3",
   "version": "3.10.7"
  }
 },
 "nbformat": 4,
 "nbformat_minor": 2
}
