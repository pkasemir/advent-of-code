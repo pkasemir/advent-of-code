{
 "cells": [
  {
   "cell_type": "code",
   "execution_count": 294,
   "metadata": {},
   "outputs": [],
   "source": [
    "import re"
   ]
  },
  {
   "cell_type": "code",
   "execution_count": 295,
   "metadata": {},
   "outputs": [],
   "source": [
    "def convert_input(line):\n",
    "    m = line.split(':')\n",
    "    # print(m)\n",
    "    game_num = int(re.search(\"[0-9]+\", m[0]).group())\n",
    "    hands = []\n",
    "    game = {\"id\": game_num, \"hands\": hands}\n",
    "    for hand in m[1].split(';'):\n",
    "        hands.append({})\n",
    "        for cube in hand.split(\",\"):\n",
    "            # print(cube)\n",
    "            count, color = cube.strip().split(' ')\n",
    "            # print(count, color)\n",
    "            # vals = re.match(\".*([0-9]+)\", hand)\n",
    "            # game['hand'] = vals\n",
    "            hands[-1][color] = int(count)\n",
    "    power = 1\n",
    "    for color in ['red', 'blue', 'green']:\n",
    "        val = max([hand[color] for hand in hands if color in hand])\n",
    "        # print(color, val)\n",
    "        power *= val\n",
    "    game['power'] = power\n",
    "    # print(power)\n",
    "    \n",
    "    return game\n"
   ]
  },
  {
   "cell_type": "code",
   "execution_count": 296,
   "metadata": {},
   "outputs": [],
   "source": [
    "def append_input(inputs, filename, solution=None):\n",
    "    try:\n",
    "        with open(filename,'r') as f:\n",
    "            lines = [line.strip() for line in f.readlines()]\n",
    "    except:\n",
    "        print(\"No input file\", filename)\n",
    "        return\n",
    "    lines = [convert_input(line) for line in lines]\n",
    "    inputs.append((lines, solution))"
   ]
  },
  {
   "cell_type": "code",
   "execution_count": 297,
   "metadata": {},
   "outputs": [],
   "source": [
    "inputs = []\n",
    "\n",
    "append_input(inputs, \"example1.txt\", 8)\n",
    "# append_input(inputs, \"input1.txt\")\n",
    "# print(inputs)"
   ]
  },
  {
   "cell_type": "code",
   "execution_count": 298,
   "metadata": {},
   "outputs": [
    {
     "name": "stdout",
     "output_type": "stream",
     "text": [
      "total 8 matches\n"
     ]
    }
   ],
   "source": [
    "bag = dict(red=12, green=13, blue=14)\n",
    "\n",
    "for input, solution in inputs:\n",
    "    total = 0\n",
    "    \n",
    "    for game in input:\n",
    "        valid = True\n",
    "        # print(game)\n",
    "        for hand in game['hands']:\n",
    "            # print(hand)\n",
    "            for color, count in bag.items():\n",
    "                if hand.get(color, 0) > count:\n",
    "                    # print(\"hand not valid\", game['id'])\n",
    "                    valid = False\n",
    "                    break\n",
    "            if not valid:\n",
    "                break\n",
    "        if valid:\n",
    "            total += game['id']\n",
    "    result = f\"total {total}\"\n",
    "    if solution is not None:\n",
    "        result += \" \" + \"matches\" if solution == total else \"not right\"\n",
    "\n",
    "    print(result)\n",
    "\n"
   ]
  },
  {
   "cell_type": "code",
   "execution_count": 299,
   "metadata": {},
   "outputs": [],
   "source": [
    "inputs = []\n",
    "\n",
    "append_input(inputs, \"example1.txt\", 2286)\n",
    "append_input(inputs, \"input1.txt\")"
   ]
  },
  {
   "cell_type": "code",
   "execution_count": 300,
   "metadata": {},
   "outputs": [
    {
     "name": "stdout",
     "output_type": "stream",
     "text": [
      "total 2286 matches\n",
      "total 70387\n"
     ]
    }
   ],
   "source": [
    "bag = dict(red=12, green=13, blue=14)\n",
    "\n",
    "for input, solution in inputs:\n",
    "    total = sum([game['power'] for game in input])\n",
    "    \n",
    "    result = f\"total {total}\"\n",
    "    if solution is not None:\n",
    "        result += \" \" + \"matches\" if solution == total else \"not right\"\n",
    "\n",
    "    print(result)\n",
    "\n"
   ]
  }
 ],
 "metadata": {
  "kernelspec": {
   "display_name": "Python 3 (ipykernel)",
   "language": "python",
   "name": "python3"
  },
  "language_info": {
   "codemirror_mode": {
    "name": "ipython",
    "version": 3
   },
   "file_extension": ".py",
   "mimetype": "text/x-python",
   "name": "python",
   "nbconvert_exporter": "python",
   "pygments_lexer": "ipython3",
   "version": "3.10.7"
  }
 },
 "nbformat": 4,
 "nbformat_minor": 2
}
